{
 "cells": [
  {
   "cell_type": "markdown",
   "id": "0e0d0e91",
   "metadata": {},
   "source": [
    "# Import Model"
   ]
  },
  {
   "cell_type": "code",
   "execution_count": 68,
   "id": "149307c7",
   "metadata": {},
   "outputs": [],
   "source": [
    "import ROOT\n",
    "from array import array\n",
    "import optparse\n",
    "import numba as nb\n",
    "import awkward as ak\n",
    "import vector\n",
    "import numpy as np\n",
    "from torch import nn\n",
    "from itertools import combinations, permutations\n",
    "import uproot\n",
    "from sklearn.preprocessing import StandardScaler\n",
    "from sklearn.compose import ColumnTransformer\n",
    "import h5py\n",
    "import os, time, argparse, matplotlib, sklearn, torch, torchmetrics\n",
    "#matplotlib.use('Agg') # Fix for $> _tkinter.TclError: couldn't connect to display \"localhost:36.0\"\n",
    "import matplotlib.pyplot as plt\n",
    "import pandas as pd\n",
    "import numpy as np\n",
    "from sklearn.utils import class_weight\n",
    "from sklearn.metrics import precision_recall_curve, roc_curve\n",
    "from sklearn.model_selection import train_test_split\n",
    "from torch import nn\n",
    "from torch.utils.data import Dataset, DataLoader\n",
    "from torchvision import transforms\n",
    "from torchmetrics import PrecisionRecallCurve, Accuracy, Precision, Recall, ROC\n",
    "\n",
    "skimstore_place = \"skim_root/\"\n",
    "h5py_place      = \"dataframe/\"\n",
    "output_place    = \"MergeOutput/\""
   ]
  },
  {
   "cell_type": "markdown",
   "id": "562dfef0",
   "metadata": {},
   "source": [
    "## Class: Dataset"
   ]
  },
  {
   "cell_type": "code",
   "execution_count": 32,
   "id": "09c4e53b",
   "metadata": {},
   "outputs": [],
   "source": [
    "class custom_train_dataset(Dataset):\n",
    "    def __init__(self, df, input_columns, target_column, transform=None, target_transform=None, device='cpu'):\n",
    "        self.df = df\n",
    "        # make tensors for values of inputs and relveant labels\n",
    "        source_combs = self.df[input_columns].values\n",
    "        target_labels = self.df[target_column].values\n",
    "        self.x_train = torch.tensor(source_combs,dtype=torch.float32, device=torch.device(device))\n",
    "        self.y_train = torch.tensor(target_labels,dtype=torch.float32, device=torch.device(device))\n",
    "        self.transform = transform\n",
    "\n",
    "    def __len__(self):\n",
    "        return len(self.df)\n",
    "\n",
    "    def __getitem__(self, index):\n",
    "        x_ = self.x_train[index]\n",
    "        y_ = self.y_train[index]\n",
    "\n",
    "        if self.transform:\n",
    "            x_ = self.transform(x_)\n",
    "\n",
    "        return x_, y_"
   ]
  },
  {
   "cell_type": "markdown",
   "id": "6ecec9c6",
   "metadata": {},
   "source": [
    "## Class: Neural Network structure"
   ]
  },
  {
   "cell_type": "code",
   "execution_count": 33,
   "id": "9aee2669",
   "metadata": {},
   "outputs": [],
   "source": [
    "class NeuralNetwork(nn.Module):\n",
    "    def __init__(self,nvars):\n",
    "        # return a temporary object of superclass so we can call superclass' methods\n",
    "        super(NeuralNetwork, self).__init__()\n",
    "        # Initialise layers\n",
    "        self.linear_relu_stack = nn.Sequential(\n",
    "            nn.Flatten(), #Flattens contiguous range of dimensions into a tensor\n",
    "            nn.Linear(nvars,24),\n",
    "            nn.ReLU(),\n",
    "            nn.Linear(24,12),\n",
    "            nn.ReLU(),\n",
    "            nn.Linear(12,8),\n",
    "            nn.ReLU(),\n",
    "            nn.Linear(8,4),\n",
    "            nn.ReLU(),\n",
    "            nn.Linear(4,1),\n",
    "        )\n",
    "    # Method to implement operations on input data\n",
    "    # Passing input data to model automatically executes models forward method\n",
    "    def forward(self, x):\n",
    "        logits = self.linear_relu_stack(x)\n",
    "        return logits"
   ]
  },
  {
   "cell_type": "markdown",
   "id": "6034db71",
   "metadata": {},
   "source": [
    "## Parameter setting"
   ]
  },
  {
   "cell_type": "code",
   "execution_count": 34,
   "id": "e9eab252",
   "metadata": {},
   "outputs": [
    {
     "name": "stdout",
     "output_type": "stream",
     "text": [
      "device cuda\n"
     ]
    }
   ],
   "source": [
    "device = 'cuda' if torch.cuda.is_available() else 'cpu'\n",
    "fin_name = 'ttc_a_200-700GeV_with_geninfo'\n",
    "print('device',device)"
   ]
  },
  {
   "cell_type": "code",
   "execution_count": null,
   "id": "fe6e8db1",
   "metadata": {},
   "outputs": [],
   "source": []
  },
  {
   "cell_type": "markdown",
   "id": "9d888c12",
   "metadata": {},
   "source": [
    "## Reading dataframe"
   ]
  },
  {
   "cell_type": "code",
   "execution_count": 35,
   "id": "e90d0772",
   "metadata": {},
   "outputs": [],
   "source": [
    "df = []\n",
    "\n",
    "# Scan target file\n",
    "FileList = os.listdir(h5py_place)\n",
    "for f in FileList:\n",
    "    if (fin_name in f and 'h5' in f):\n",
    "        df_ = pd.read_hdf(os.path.join(h5py_place,f))\n",
    "        df.append(df_)\n",
    "# Prepare dataframe\n",
    "df = pd.concat(df)\n",
    "\n",
    "# Data Preprocessing\n",
    "colnames = list(df.keys())\n",
    "ct = ColumnTransformer(\n",
    " [('StandardScaler', StandardScaler(), colnames[5:-3] )],\n",
    "      remainder='drop'# Drop nontransformed columns\n",
    "  )\n",
    "index_ = df[colnames[:5]]\n",
    "label_ = df[colnames[-3]]\n",
    "label_pair_ = df[colnames[-2]]\n",
    "label_valid_ = df[colnames[-1]]\n",
    "result_ = ct.fit_transform(df)\n",
    "result_ = np.c_[index_, result_, label_, label_pair_, label_valid_]\n",
    "transformed_df = pd.DataFrame(result_,columns=colnames)\n",
    "transformed_df = transformed_df.astype({'Entry':\"int\",'bmatched_jet_index':'int','lmatched_jet_index':'int','jet3_index':'int','jet4_index':'int','label':'int', 'label_pair':'int', 'label_valid':'int'})\n",
    "transformed_df.to_hdf(os.path.join(output_place,fin_name + '.h5'),'df',mode='w',format='table',data_columns=True)\n"
   ]
  },
  {
   "cell_type": "markdown",
   "id": "a2d1a3ba",
   "metadata": {},
   "source": [
    "## Training"
   ]
  },
  {
   "cell_type": "markdown",
   "id": "43ee8543",
   "metadata": {},
   "source": [
    "### Parameter"
   ]
  },
  {
   "cell_type": "code",
   "execution_count": 58,
   "id": "566b4c05",
   "metadata": {},
   "outputs": [],
   "source": [
    "learning_rate = 0.00001\n",
    "batchsize = 500\n",
    "n_epochs = 450\n",
    "input_columns_ = [\n",
    "    'bmatched_jet_pt','bmatched_jet_eta','bmatched_jet_phi','bmatched_jet_mass', 'bmatched_jet_CvB', 'bmatched_jet_CvL', 'bmatched_jet_FlavB',\n",
    "    'lmatched_jet_pt','lmatched_jet_eta','lmatched_jet_phi','lmatched_jet_mass', 'lmatched_jet_CvB', 'lmatched_jet_CvL', 'lmatched_jet_FlavB',\n",
    "    'dR_bmatched_lmatched_jets','dR_bmatched_jet_lep1','dR_bmatched_jet_lep2','dR_lmatched_jet_lep1','dR_lmatched_jet_lep2',\n",
    "    'invmass_bjlj',\n",
    "    'lep1_pt','lep1_eta','lep1_phi','lep1_mass',\n",
    "    'lep2_pt','lep2_eta','lep2_phi','lep2_mass',\n",
    "    'jet3_pt','jet3_eta','jet3_phi','jet3_mass', 'jet3_CvB', 'jet3_CvL', 'jet3_FlavB',\n",
    "    'jet4_pt','jet4_eta','jet4_phi','jet4_mass', 'jet4_CvB', 'jet4_CvL', 'jet4_FlavB'    \n",
    "  ]"
   ]
  },
  {
   "cell_type": "markdown",
   "id": "9619ca17",
   "metadata": {},
   "source": [
    "### Loop"
   ]
  },
  {
   "cell_type": "code",
   "execution_count": 59,
   "id": "9adb1daa",
   "metadata": {},
   "outputs": [],
   "source": [
    "def train_loop(dataloader, model, loss_fn, optimizer):\n",
    "    size = len(dataloader.dataset)\n",
    "    # Set (averaged batch loss * batch size) to 0\n",
    "    batch_loss = 0.0\n",
    "    # For each batch in the dataloader\n",
    "    for batch, (X,y) in enumerate(dataloader):\n",
    "        # Set any learned gradients for optimised tensors to zero (as they will otherwise be from previous batch using different parameters)\n",
    "        optimizer.zero_grad()\n",
    "        # Alter dimensions of labels tensor\n",
    "        y = y.unsqueeze(1)\n",
    "        # Compute prediction and loss for the whole batch\n",
    "        logits = model(X)\n",
    "        # Loss computation for the batch\n",
    "        loss = loss_fn(logits, y)\n",
    "        ### Backpropagation ###\n",
    "        # compute sum of gradients of given tensor for this batch\n",
    "        loss.backward()\n",
    "        # Update weights\n",
    "        optimizer.step()\n",
    "        # Add loss to batch loss\n",
    "        batch_loss += loss.item() * X.size(0)\n",
    "        # Report every X batches\n",
    "        if batch % 10 == 0:\n",
    "            loss, current = loss.item(), batch*len(X)\n",
    "        #    print(f'loss:{loss:.4} [{current}/{size}]')\n",
    "    # Return: averaged batch loss * batch size , model\n",
    "    return batch_loss, model\n",
    "\n",
    "def test_loop(dataloader, model, loss_fn):\n",
    "    size = len(dataloader.dataset)\n",
    "    num_batches = len(dataloader)\n",
    "    batch_loss = 0.0\n",
    "    # gradient calculation disabled (not needed in evaluation)\n",
    "    with torch.no_grad():\n",
    "        # for each batch\n",
    "        for X,y in dataloader:\n",
    "            # make prediction using model\n",
    "            logits = model(X)\n",
    "            y = y.unsqueeze(1) # required to ensure same dimensions\n",
    "            # add loss for example to batch loss using prediction and ground truth\n",
    "            test_loss = loss_fn(logits, y)\n",
    "            # Add loss to batch loss\n",
    "            batch_loss += test_loss.item() * X.size(0)\n",
    "            # Report every X batches\n",
    "            #if batch % 10 == 0:\n",
    "            #    loss, current = test_loss.item(), batch*len(X)\n",
    "            #    print(f'test_loss:{test_loss:.4} [{current}/{size}]')\n",
    "\n",
    "        return batch_loss\n",
    "\n",
    "def eval_loop(dataloader, model, loss_fn):\n",
    "    size = len(dataloader.dataset)\n",
    "    num_batches = len(dataloader)\n",
    "    test_loss, correct = 0,0\n",
    "    # gradient calculation disabled (not needed in evaluation)\n",
    "    with torch.no_grad():\n",
    "        #pr_curve = PrecisionRecallCurve(pos_label=1)\n",
    "        #roc = ROC(pos_label=1)\n",
    "        all_truth_labels = []\n",
    "        all_predictions = []\n",
    "\n",
    "        # for each batch\n",
    "        for X,y in dataloader:\n",
    "            # make prediction using model\n",
    "            logits = model(X)\n",
    "            y = y.unsqueeze(1) # required to ensure same dimensions\n",
    "            all_truth_labels += y.tolist()\n",
    "            all_predictions += torch.sigmoid(logits).tolist()\n",
    "            # add loss for example to batch loss using prediction and ground truth\n",
    "            test_loss += loss_fn(logits, y).item()\n",
    "            # pair predictions with data truth\n",
    "            test_stack = torch.stack((torch.sigmoid(logits), y), dim=1)\n",
    "\n",
    "        #print('New event\\n',list(zip(all_predictions,all_truth_labels)))\n",
    "        # Look for combination with highest prediciton score\n",
    "        max_pred_ = max(all_predictions)\n",
    "        # get the index of this combination\n",
    "        max_pred_index_ = all_predictions.index(max_pred_)\n",
    "        # Look for combination with highest truth label (i.e. == 1)\n",
    "        max_truth_ = max(all_truth_labels)\n",
    "        # Get the index\n",
    "        max_truth_index_ = all_truth_labels.index(max_truth_)\n",
    "        #print( 'predicted index: %s, truth index: %s' % (max_pred_index_, max_truth_index_) )\n",
    "        return max_pred_index_, max_truth_index_\n"
   ]
  },
  {
   "cell_type": "markdown",
   "id": "deb67b85",
   "metadata": {},
   "source": [
    "### Create dataset"
   ]
  },
  {
   "cell_type": "code",
   "execution_count": 69,
   "id": "6f324502",
   "metadata": {},
   "outputs": [
    {
     "name": "stdout",
     "output_type": "stream",
     "text": [
      "Features batch shape: torch.Size([500, 42]) \n",
      "Labels batch shape: torch.Size([500]) \n",
      "sig/bkg class ratio:  5.944444444444445\n"
     ]
    }
   ],
   "source": [
    "# Create datasets\n",
    "transformed_df = transformed_df[transformed_df['label_valid']==1]\n",
    "train_df, test_df = train_test_split(transformed_df, test_size=0.2, shuffle=False)\n",
    "test_df, val_df = train_test_split(test_df, test_size=0.5, shuffle=False)\n",
    "\n",
    "train_dataset = custom_train_dataset(train_df, input_columns_, 'label_pair', device=device)\n",
    "test_dataset  = custom_train_dataset(test_df, input_columns_, 'label_pair', device=device)\n",
    "valid_dataset = custom_train_dataset(val_df, input_columns_, 'label_pair', device=device)\n",
    "\n",
    "# DataLoaders for train datasets\n",
    "training_data_loader = DataLoader(train_dataset, batch_size=batchsize, shuffle=True)\n",
    "testing_data_loader = DataLoader(test_dataset, batch_size=batchsize, shuffle=False)\n",
    "\n",
    "# Test dataLoaders by loading batches of features and labels\n",
    "train_features, train_labels = next(iter(training_data_loader))\n",
    "print(f\"Features batch shape: {train_features.size()} \")\n",
    "print(f\"Labels batch shape: {train_labels.size()} \")\n",
    "\n",
    "# Class weights\n",
    "# Be careful using class weights:\n",
    "#       - Too large and they can cause instability in the training such that the algorithm doesnt learn\n",
    "#       - Too small and if you have class imbalance, class(es) can be ignored to obtain high accuracy\n",
    "n_sig = [x for x in train_labels if x == 1]\n",
    "n_bkg = [x for x in train_labels if x == 0]\n",
    "class_ratio = len(n_bkg)/len(n_sig)\n",
    "print('sig/bkg class ratio: ', class_ratio)"
   ]
  },
  {
   "cell_type": "code",
   "execution_count": 61,
   "id": "30668955",
   "metadata": {},
   "outputs": [
    {
     "name": "stdout",
     "output_type": "stream",
     "text": [
      "NeuralNetwork(\n",
      "  (linear_relu_stack): Sequential(\n",
      "    (0): Flatten(start_dim=1, end_dim=-1)\n",
      "    (1): Linear(in_features=42, out_features=24, bias=True)\n",
      "    (2): ReLU()\n",
      "    (3): Linear(in_features=24, out_features=12, bias=True)\n",
      "    (4): ReLU()\n",
      "    (5): Linear(in_features=12, out_features=8, bias=True)\n",
      "    (6): ReLU()\n",
      "    (7): Linear(in_features=8, out_features=4, bias=True)\n",
      "    (8): ReLU()\n",
      "    (9): Linear(in_features=4, out_features=1, bias=True)\n",
      "  )\n",
      ")\n"
     ]
    },
    {
     "data": {
      "application/vnd.jupyter.widget-view+json": {
       "model_id": "fdff3b85c80f445baf0494f0f8381053",
       "version_major": 2,
       "version_minor": 0
      },
      "text/plain": [
       "  0%|          | 0/450 [00:00<?, ?it/s]"
      ]
     },
     "metadata": {},
     "output_type": "display_data"
    },
    {
     "data": {
      "image/png": "[encoded data removed]",
      "text/plain": [
       "<Figure size 288x288 with 1 Axes>"
      ]
     },
     "metadata": {},
     "output_type": "display_data"
    },
    {
     "data": {
      "image/png": "[encoded data removed]",
      "text/plain": [
       "<Figure size 288x288 with 1 Axes>"
      ]
     },
     "metadata": {
      "needs_background": "light"
     },
     "output_type": "display_data"
    }
   ],
   "source": [
    "loss_function = nn.BCEWithLogitsLoss(pos_weight=torch.tensor(class_ratio))\n",
    "#loss_function = nn.BCEWithLogitsLoss()\n",
    "\n",
    "model = NeuralNetwork(len(input_columns_)).to(device)\n",
    "print(model)\n",
    "\n",
    "# Initialsed optimiser with models parameters\n",
    "# n.b. must call parameters method on model when initialising optimiser\n",
    "optimizer = torch.optim.NAdam(model.parameters(), lr=learning_rate)\n",
    "\n",
    "# Looping over entire dataset\n",
    "train_losses = []\n",
    "test_losses = []\n",
    "iters = 0\n",
    "\n",
    "fig, ax = plt.subplots(ncols=1, figsize=(4,4))\n",
    "import tqdm\n",
    "epochs = tqdm.notebook.trange(n_epochs)\n",
    "from IPython import display\n",
    "dh = display.display(fig, display_id=True)\n",
    "\n",
    "for epoch in epochs:\n",
    "    loss_ , model_ = train_loop(training_data_loader, model, loss_function, optimizer)\n",
    "    test_loss_ = test_loop(testing_data_loader, model, loss_function)\n",
    "    # Calculate the average loss over the epoch\n",
    "    av_training_loss = loss_/len(training_data_loader.sampler)\n",
    "    av_testing_loss = test_loss_/len(testing_data_loader.sampler)\n",
    "    epochs.set_description('Average Loss: {:5f}(Train) {:5f}(Test)'.format(av_training_loss, av_testing_loss))\n",
    "    train_losses.append(av_training_loss)\n",
    "    test_losses.append(av_testing_loss)\n",
    "\n",
    "    model_outdir_name = 'model_'+str(learning_rate)+'_'+str(batchsize)+'_'+str(n_epochs)\n",
    "    if not os.path.isdir(model_outdir_name):\n",
    "            print('Making model directory: ', model_outdir_name)\n",
    "            os.makedirs(model_outdir_name)\n",
    "    model_save_ = os.path.join(model_outdir_name,'saved_model.pt')\n",
    "    torch.save(model_.state_dict(), model_save_)\n",
    "\n",
    "    fig, ax = plt.subplots(ncols=1, figsize=(4,4))\n",
    "    plt.title('')\n",
    "    plt.ylabel('Loss')\n",
    "    plt.xlabel('Epoch')\n",
    "    plt.yscale('log')\n",
    "    plt.plot(train_losses, label='training')\n",
    "    plt.plot(test_losses, label='testing')\n",
    "    plt.legend(loc='upper right')\n",
    "    dh.update(fig)\n",
    "    plt.close(fig)"
   ]
  },
  {
   "cell_type": "markdown",
   "id": "909f482b",
   "metadata": {},
   "source": [
    "## Application (Validation)"
   ]
  },
  {
   "cell_type": "code",
   "execution_count": 70,
   "id": "2bb904f5",
   "metadata": {},
   "outputs": [
    {
     "name": "stdout",
     "output_type": "stream",
     "text": [
      "Evaluation on  cuda\n"
     ]
    },
    {
     "ename": "RuntimeError",
     "evalue": "Expected all tensors to be on the same device, but found at least two devices, cpu and cuda:0! (when checking argument for argument mat1 in method wrapper_addmm)",
     "output_type": "error",
     "traceback": [
      "\u001b[0;31m---------------------------------------------------------------------------\u001b[0m",
      "\u001b[0;31mRuntimeError\u001b[0m                              Traceback (most recent call last)",
      "\u001b[0;32m/tmp/ipykernel_408/3359382769.py\u001b[0m in \u001b[0;36m<module>\u001b[0;34m\u001b[0m\n\u001b[1;32m     18\u001b[0m     \u001b[0mval_dataset\u001b[0m \u001b[0;34m=\u001b[0m \u001b[0mcustom_train_dataset\u001b[0m\u001b[0;34m(\u001b[0m\u001b[0mgroups_\u001b[0m\u001b[0;34m.\u001b[0m\u001b[0mget_group\u001b[0m\u001b[0;34m(\u001b[0m\u001b[0mevnum\u001b[0m\u001b[0;34m)\u001b[0m\u001b[0;34m,\u001b[0m \u001b[0minput_columns_\u001b[0m\u001b[0;34m,\u001b[0m \u001b[0;34m'label_pair'\u001b[0m\u001b[0;34m,\u001b[0m \u001b[0mdevice\u001b[0m\u001b[0;34m=\u001b[0m\u001b[0mdevice\u001b[0m\u001b[0;34m)\u001b[0m\u001b[0;34m\u001b[0m\u001b[0;34m\u001b[0m\u001b[0m\n\u001b[1;32m     19\u001b[0m     \u001b[0mval_data_loader\u001b[0m \u001b[0;34m=\u001b[0m \u001b[0mDataLoader\u001b[0m\u001b[0;34m(\u001b[0m\u001b[0mval_dataset\u001b[0m\u001b[0;34m,\u001b[0m \u001b[0mbatch_size\u001b[0m\u001b[0;34m=\u001b[0m\u001b[0mlen\u001b[0m\u001b[0;34m(\u001b[0m\u001b[0mval_dataset\u001b[0m\u001b[0;34m)\u001b[0m\u001b[0;34m,\u001b[0m \u001b[0mshuffle\u001b[0m\u001b[0;34m=\u001b[0m\u001b[0;32mFalse\u001b[0m\u001b[0;34m)\u001b[0m\u001b[0;34m\u001b[0m\u001b[0;34m\u001b[0m\u001b[0m\n\u001b[0;32m---> 20\u001b[0;31m     \u001b[0mmax_pred_idx\u001b[0m \u001b[0;34m,\u001b[0m \u001b[0mcorr_idx_\u001b[0m \u001b[0;34m=\u001b[0m \u001b[0meval_loop\u001b[0m\u001b[0;34m(\u001b[0m\u001b[0mval_data_loader\u001b[0m\u001b[0;34m,\u001b[0m \u001b[0mmodel\u001b[0m\u001b[0;34m,\u001b[0m \u001b[0mloss_function\u001b[0m\u001b[0;34m)\u001b[0m\u001b[0;34m\u001b[0m\u001b[0;34m\u001b[0m\u001b[0m\n\u001b[0m\u001b[1;32m     21\u001b[0m     \u001b[0mlabel_high_pt_sel\u001b[0m \u001b[0;34m=\u001b[0m \u001b[0mpT_rank_sel\u001b[0m\u001b[0;34m(\u001b[0m\u001b[0mgroups_\u001b[0m\u001b[0;34m.\u001b[0m\u001b[0mget_group\u001b[0m\u001b[0;34m(\u001b[0m\u001b[0mevnum\u001b[0m\u001b[0;34m)\u001b[0m\u001b[0;34m)\u001b[0m\u001b[0;34m\u001b[0m\u001b[0;34m\u001b[0m\u001b[0m\n\u001b[1;32m     22\u001b[0m \u001b[0;34m\u001b[0m\u001b[0m\n",
      "\u001b[0;32m/tmp/ipykernel_408/4105042074.py\u001b[0m in \u001b[0;36meval_loop\u001b[0;34m(dataloader, model, loss_fn)\u001b[0m\n\u001b[1;32m     63\u001b[0m         \u001b[0;32mfor\u001b[0m \u001b[0mX\u001b[0m\u001b[0;34m,\u001b[0m\u001b[0my\u001b[0m \u001b[0;32min\u001b[0m \u001b[0mdataloader\u001b[0m\u001b[0;34m:\u001b[0m\u001b[0;34m\u001b[0m\u001b[0;34m\u001b[0m\u001b[0m\n\u001b[1;32m     64\u001b[0m             \u001b[0;31m# make prediction using model\u001b[0m\u001b[0;34m\u001b[0m\u001b[0;34m\u001b[0m\u001b[0m\n\u001b[0;32m---> 65\u001b[0;31m             \u001b[0mlogits\u001b[0m \u001b[0;34m=\u001b[0m \u001b[0mmodel\u001b[0m\u001b[0;34m(\u001b[0m\u001b[0mX\u001b[0m\u001b[0;34m)\u001b[0m\u001b[0;34m\u001b[0m\u001b[0;34m\u001b[0m\u001b[0m\n\u001b[0m\u001b[1;32m     66\u001b[0m             \u001b[0my\u001b[0m \u001b[0;34m=\u001b[0m \u001b[0my\u001b[0m\u001b[0;34m.\u001b[0m\u001b[0munsqueeze\u001b[0m\u001b[0;34m(\u001b[0m\u001b[0;36m1\u001b[0m\u001b[0;34m)\u001b[0m \u001b[0;31m# required to ensure same dimensions\u001b[0m\u001b[0;34m\u001b[0m\u001b[0;34m\u001b[0m\u001b[0m\n\u001b[1;32m     67\u001b[0m             \u001b[0mall_truth_labels\u001b[0m \u001b[0;34m+=\u001b[0m \u001b[0my\u001b[0m\u001b[0;34m.\u001b[0m\u001b[0mtolist\u001b[0m\u001b[0;34m(\u001b[0m\u001b[0;34m)\u001b[0m\u001b[0;34m\u001b[0m\u001b[0;34m\u001b[0m\u001b[0m\n",
      "\u001b[0;32m/cvmfs/sft.cern.ch/lcg/views/LCG_103cuda/x86_64-centos7-gcc11-opt/lib/python3.9/site-packages/torch/nn/modules/module.py\u001b[0m in \u001b[0;36m_call_impl\u001b[0;34m(self, *input, **kwargs)\u001b[0m\n\u001b[1;32m   1192\u001b[0m         if not (self._backward_hooks or self._forward_hooks or self._forward_pre_hooks or _global_backward_hooks\n\u001b[1;32m   1193\u001b[0m                 or _global_forward_hooks or _global_forward_pre_hooks):\n\u001b[0;32m-> 1194\u001b[0;31m             \u001b[0;32mreturn\u001b[0m \u001b[0mforward_call\u001b[0m\u001b[0;34m(\u001b[0m\u001b[0;34m*\u001b[0m\u001b[0minput\u001b[0m\u001b[0;34m,\u001b[0m \u001b[0;34m**\u001b[0m\u001b[0mkwargs\u001b[0m\u001b[0;34m)\u001b[0m\u001b[0;34m\u001b[0m\u001b[0;34m\u001b[0m\u001b[0m\n\u001b[0m\u001b[1;32m   1195\u001b[0m         \u001b[0;31m# Do not call functions when jit is used\u001b[0m\u001b[0;34m\u001b[0m\u001b[0;34m\u001b[0m\u001b[0m\n\u001b[1;32m   1196\u001b[0m         \u001b[0mfull_backward_hooks\u001b[0m\u001b[0;34m,\u001b[0m \u001b[0mnon_full_backward_hooks\u001b[0m \u001b[0;34m=\u001b[0m \u001b[0;34m[\u001b[0m\u001b[0;34m]\u001b[0m\u001b[0;34m,\u001b[0m \u001b[0;34m[\u001b[0m\u001b[0;34m]\u001b[0m\u001b[0;34m\u001b[0m\u001b[0;34m\u001b[0m\u001b[0m\n",
      "\u001b[0;32m/tmp/ipykernel_408/931201113.py\u001b[0m in \u001b[0;36mforward\u001b[0;34m(self, x)\u001b[0m\n\u001b[1;32m     19\u001b[0m     \u001b[0;31m# Passing input data to model automatically executes models forward method\u001b[0m\u001b[0;34m\u001b[0m\u001b[0;34m\u001b[0m\u001b[0m\n\u001b[1;32m     20\u001b[0m     \u001b[0;32mdef\u001b[0m \u001b[0mforward\u001b[0m\u001b[0;34m(\u001b[0m\u001b[0mself\u001b[0m\u001b[0;34m,\u001b[0m \u001b[0mx\u001b[0m\u001b[0;34m)\u001b[0m\u001b[0;34m:\u001b[0m\u001b[0;34m\u001b[0m\u001b[0;34m\u001b[0m\u001b[0m\n\u001b[0;32m---> 21\u001b[0;31m         \u001b[0mlogits\u001b[0m \u001b[0;34m=\u001b[0m \u001b[0mself\u001b[0m\u001b[0;34m.\u001b[0m\u001b[0mlinear_relu_stack\u001b[0m\u001b[0;34m(\u001b[0m\u001b[0mx\u001b[0m\u001b[0;34m)\u001b[0m\u001b[0;34m\u001b[0m\u001b[0;34m\u001b[0m\u001b[0m\n\u001b[0m\u001b[1;32m     22\u001b[0m         \u001b[0;32mreturn\u001b[0m \u001b[0mlogits\u001b[0m\u001b[0;34m\u001b[0m\u001b[0;34m\u001b[0m\u001b[0m\n",
      "\u001b[0;32m/cvmfs/sft.cern.ch/lcg/views/LCG_103cuda/x86_64-centos7-gcc11-opt/lib/python3.9/site-packages/torch/nn/modules/module.py\u001b[0m in \u001b[0;36m_call_impl\u001b[0;34m(self, *input, **kwargs)\u001b[0m\n\u001b[1;32m   1192\u001b[0m         if not (self._backward_hooks or self._forward_hooks or self._forward_pre_hooks or _global_backward_hooks\n\u001b[1;32m   1193\u001b[0m                 or _global_forward_hooks or _global_forward_pre_hooks):\n\u001b[0;32m-> 1194\u001b[0;31m             \u001b[0;32mreturn\u001b[0m \u001b[0mforward_call\u001b[0m\u001b[0;34m(\u001b[0m\u001b[0;34m*\u001b[0m\u001b[0minput\u001b[0m\u001b[0;34m,\u001b[0m \u001b[0;34m**\u001b[0m\u001b[0mkwargs\u001b[0m\u001b[0;34m)\u001b[0m\u001b[0;34m\u001b[0m\u001b[0;34m\u001b[0m\u001b[0m\n\u001b[0m\u001b[1;32m   1195\u001b[0m         \u001b[0;31m# Do not call functions when jit is used\u001b[0m\u001b[0;34m\u001b[0m\u001b[0;34m\u001b[0m\u001b[0m\n\u001b[1;32m   1196\u001b[0m         \u001b[0mfull_backward_hooks\u001b[0m\u001b[0;34m,\u001b[0m \u001b[0mnon_full_backward_hooks\u001b[0m \u001b[0;34m=\u001b[0m \u001b[0;34m[\u001b[0m\u001b[0;34m]\u001b[0m\u001b[0;34m,\u001b[0m \u001b[0;34m[\u001b[0m\u001b[0;34m]\u001b[0m\u001b[0;34m\u001b[0m\u001b[0;34m\u001b[0m\u001b[0m\n",
      "\u001b[0;32m/cvmfs/sft.cern.ch/lcg/views/LCG_103cuda/x86_64-centos7-gcc11-opt/lib/python3.9/site-packages/torch/nn/modules/container.py\u001b[0m in \u001b[0;36mforward\u001b[0;34m(self, input)\u001b[0m\n\u001b[1;32m    202\u001b[0m     \u001b[0;32mdef\u001b[0m \u001b[0mforward\u001b[0m\u001b[0;34m(\u001b[0m\u001b[0mself\u001b[0m\u001b[0;34m,\u001b[0m \u001b[0minput\u001b[0m\u001b[0;34m)\u001b[0m\u001b[0;34m:\u001b[0m\u001b[0;34m\u001b[0m\u001b[0;34m\u001b[0m\u001b[0m\n\u001b[1;32m    203\u001b[0m         \u001b[0;32mfor\u001b[0m \u001b[0mmodule\u001b[0m \u001b[0;32min\u001b[0m \u001b[0mself\u001b[0m\u001b[0;34m:\u001b[0m\u001b[0;34m\u001b[0m\u001b[0;34m\u001b[0m\u001b[0m\n\u001b[0;32m--> 204\u001b[0;31m             \u001b[0minput\u001b[0m \u001b[0;34m=\u001b[0m \u001b[0mmodule\u001b[0m\u001b[0;34m(\u001b[0m\u001b[0minput\u001b[0m\u001b[0;34m)\u001b[0m\u001b[0;34m\u001b[0m\u001b[0;34m\u001b[0m\u001b[0m\n\u001b[0m\u001b[1;32m    205\u001b[0m         \u001b[0;32mreturn\u001b[0m \u001b[0minput\u001b[0m\u001b[0;34m\u001b[0m\u001b[0;34m\u001b[0m\u001b[0m\n\u001b[1;32m    206\u001b[0m \u001b[0;34m\u001b[0m\u001b[0m\n",
      "\u001b[0;32m/cvmfs/sft.cern.ch/lcg/views/LCG_103cuda/x86_64-centos7-gcc11-opt/lib/python3.9/site-packages/torch/nn/modules/module.py\u001b[0m in \u001b[0;36m_call_impl\u001b[0;34m(self, *input, **kwargs)\u001b[0m\n\u001b[1;32m   1192\u001b[0m         if not (self._backward_hooks or self._forward_hooks or self._forward_pre_hooks or _global_backward_hooks\n\u001b[1;32m   1193\u001b[0m                 or _global_forward_hooks or _global_forward_pre_hooks):\n\u001b[0;32m-> 1194\u001b[0;31m             \u001b[0;32mreturn\u001b[0m \u001b[0mforward_call\u001b[0m\u001b[0;34m(\u001b[0m\u001b[0;34m*\u001b[0m\u001b[0minput\u001b[0m\u001b[0;34m,\u001b[0m \u001b[0;34m**\u001b[0m\u001b[0mkwargs\u001b[0m\u001b[0;34m)\u001b[0m\u001b[0;34m\u001b[0m\u001b[0;34m\u001b[0m\u001b[0m\n\u001b[0m\u001b[1;32m   1195\u001b[0m         \u001b[0;31m# Do not call functions when jit is used\u001b[0m\u001b[0;34m\u001b[0m\u001b[0;34m\u001b[0m\u001b[0m\n\u001b[1;32m   1196\u001b[0m         \u001b[0mfull_backward_hooks\u001b[0m\u001b[0;34m,\u001b[0m \u001b[0mnon_full_backward_hooks\u001b[0m \u001b[0;34m=\u001b[0m \u001b[0;34m[\u001b[0m\u001b[0;34m]\u001b[0m\u001b[0;34m,\u001b[0m \u001b[0;34m[\u001b[0m\u001b[0;34m]\u001b[0m\u001b[0;34m\u001b[0m\u001b[0;34m\u001b[0m\u001b[0m\n",
      "\u001b[0;32m/cvmfs/sft.cern.ch/lcg/views/LCG_103cuda/x86_64-centos7-gcc11-opt/lib/python3.9/site-packages/torch/nn/modules/linear.py\u001b[0m in \u001b[0;36mforward\u001b[0;34m(self, input)\u001b[0m\n\u001b[1;32m    112\u001b[0m \u001b[0;34m\u001b[0m\u001b[0m\n\u001b[1;32m    113\u001b[0m     \u001b[0;32mdef\u001b[0m \u001b[0mforward\u001b[0m\u001b[0;34m(\u001b[0m\u001b[0mself\u001b[0m\u001b[0;34m,\u001b[0m \u001b[0minput\u001b[0m\u001b[0;34m:\u001b[0m \u001b[0mTensor\u001b[0m\u001b[0;34m)\u001b[0m \u001b[0;34m->\u001b[0m \u001b[0mTensor\u001b[0m\u001b[0;34m:\u001b[0m\u001b[0;34m\u001b[0m\u001b[0;34m\u001b[0m\u001b[0m\n\u001b[0;32m--> 114\u001b[0;31m         \u001b[0;32mreturn\u001b[0m \u001b[0mF\u001b[0m\u001b[0;34m.\u001b[0m\u001b[0mlinear\u001b[0m\u001b[0;34m(\u001b[0m\u001b[0minput\u001b[0m\u001b[0;34m,\u001b[0m \u001b[0mself\u001b[0m\u001b[0;34m.\u001b[0m\u001b[0mweight\u001b[0m\u001b[0;34m,\u001b[0m \u001b[0mself\u001b[0m\u001b[0;34m.\u001b[0m\u001b[0mbias\u001b[0m\u001b[0;34m)\u001b[0m\u001b[0;34m\u001b[0m\u001b[0;34m\u001b[0m\u001b[0m\n\u001b[0m\u001b[1;32m    115\u001b[0m \u001b[0;34m\u001b[0m\u001b[0m\n\u001b[1;32m    116\u001b[0m     \u001b[0;32mdef\u001b[0m \u001b[0mextra_repr\u001b[0m\u001b[0;34m(\u001b[0m\u001b[0mself\u001b[0m\u001b[0;34m)\u001b[0m \u001b[0;34m->\u001b[0m \u001b[0mstr\u001b[0m\u001b[0;34m:\u001b[0m\u001b[0;34m\u001b[0m\u001b[0;34m\u001b[0m\u001b[0m\n",
      "\u001b[0;31mRuntimeError\u001b[0m: Expected all tensors to be on the same device, but found at least two devices, cpu and cuda:0! (when checking argument for argument mat1 in method wrapper_addmm)"
     ]
    }
   ],
   "source": [
    "print('Evaluation on ', device)\n",
    "groups_ = val_df.groupby('Entry')\n",
    "num_corr_ptSel = 0\n",
    "num_corr = 0\n",
    "total_ = 0\n",
    "\n",
    "def pT_rank_sel(test_dataset):\n",
    "    sum_pt_ = -100\n",
    "    for row in test_dataset.index:\n",
    "        if test_dataset['bmatched_jet_pt'][row] < test_dataset['lmatched_jet_pt'][row]: continue\n",
    "        if test_dataset['bmatched_jet_pt'][row] + test_dataset['lmatched_jet_pt'][row] > sum_pt_:\n",
    "            sum_pt_ = test_dataset['bmatched_jet_pt'][row] + test_dataset['lmatched_jet_pt'][row]\n",
    "            label_pT_high = test_dataset['label_pair'][row]\n",
    "\n",
    "    return label_pT_high\n",
    "\n",
    "for evnum in groups_.groups.keys():\n",
    "    val_dataset = custom_train_dataset(groups_.get_group(evnum), input_columns_, 'label_pair', device=device)\n",
    "    val_data_loader = DataLoader(val_dataset, batch_size=len(val_dataset), shuffle=False)\n",
    "    max_pred_idx , corr_idx_ = eval_loop(val_data_loader, model, loss_function)\n",
    "    label_high_pt_sel = pT_rank_sel(groups_.get_group(evnum))\n",
    "\n",
    "    total_ += 1\n",
    "    if label_high_pt_sel == 1:\n",
    "        num_corr_ptSel+=1\n",
    "    if max_pred_idx == corr_idx_:\n",
    "        num_corr+=1\n",
    "percent_corr_ptSel = (num_corr_ptSel/total_)*100\n",
    "percent_corr = (num_corr/total_)*100\n",
    "print(f'{num_corr}/{total_} ({percent_corr:.3} percent) events correctly assigned by algo')\n",
    "print(f'{num_corr_ptSel}/{total_} ({percent_corr_ptSel:.3} percent) events correctly assigned by selecting high-pt pair')\n",
    "with open(os.path.join(model_outdir_name,'results.txt'), 'w') as f:\n",
    "        lines =[f'{num_corr}/{total_} ({percent_corr:.3} percent) events correctly assigned by algo', f'{num_corr_ptSel}/{total_} ({percent_corr_ptSel:.3} percent) events correctly assigned by selecting high-pt pair']\n",
    "        f.write('\\n'.join(lines))\n",
    "print('FIN!')"
   ]
  },
  {
   "cell_type": "code",
   "execution_count": 71,
   "id": "48ee7f12",
   "metadata": {},
   "outputs": [
    {
     "data": {
      "text/plain": [
       "NeuralNetwork(\n",
       "  (linear_relu_stack): Sequential(\n",
       "    (0): Flatten(start_dim=1, end_dim=-1)\n",
       "    (1): Linear(in_features=42, out_features=24, bias=True)\n",
       "    (2): ReLU()\n",
       "    (3): Linear(in_features=24, out_features=12, bias=True)\n",
       "    (4): ReLU()\n",
       "    (5): Linear(in_features=12, out_features=8, bias=True)\n",
       "    (6): ReLU()\n",
       "    (7): Linear(in_features=8, out_features=4, bias=True)\n",
       "    (8): ReLU()\n",
       "    (9): Linear(in_features=4, out_features=1, bias=True)\n",
       "  )\n",
       ")"
      ]
     },
     "execution_count": 71,
     "metadata": {},
     "output_type": "execute_result"
    }
   ],
   "source": [
    "# Load DNN \n",
    "model = NeuralNetwork(len(input_columns_))\n",
    "model.load_state_dict(torch.load('model_1e-05_500_450/saved_model.pt'))\n",
    "model.eval()"
   ]
  },
  {
   "cell_type": "code",
   "execution_count": 72,
   "id": "9578966e",
   "metadata": {},
   "outputs": [],
   "source": [
    "source_combs = val_df[input_columns_].values\n",
    "X_input      = torch.tensor(source_combs, dtype=torch.float32)\n",
    "predicted    = torch.sigmoid(model(X_input)).detach().numpy()\n",
    "predicted    = np.array(predicted.reshape(len(predicted)))\n",
    "val_df_copy  = val_df\n",
    "val_df_copy.insert(1, \"predicted\", predicted)\n",
    "idx = val_df_copy.groupby(['Entry'])['predicted'].transform(max) == val_df_copy['predicted']\n",
    "df = val_df_copy[idx]"
   ]
  },
  {
   "cell_type": "code",
   "execution_count": 73,
   "id": "afeb6adb",
   "metadata": {},
   "outputs": [],
   "source": [
    "idx_1 = val_df.groupby(['Entry'])['bmatched_jet_index'].transform(min) == val_df['bmatched_jet_index']\n",
    "df1 = val_df[idx_1]\n",
    "idx_2 = df1.groupby(['Entry'])['lmatched_jet_index'].transform(min) == df1['lmatched_jet_index']\n",
    "df2 = df1[idx_2]\n",
    "idx_3 = df2.groupby(['Entry'])['jet3_index'].transform(min) == df2['jet3_index']\n",
    "df3 = df2[idx_3]\n",
    "idx_4 = df3.groupby(['Entry'])['jet4_index'].transform(min) == df3['jet4_index']\n",
    "df_order = df3[idx_4]"
   ]
  },
  {
   "cell_type": "code",
   "execution_count": 74,
   "id": "330e1265",
   "metadata": {},
   "outputs": [],
   "source": [
    "df_well_match = df[df['label_valid'] == 1]\n",
    "df_bad_match  = df[df['label_valid'] == 0]\n",
    "df_well_match_order = df_order[df_order['label_valid'] == 1]\n",
    "df_bad_match_order  = df_order[df_order['label_valid'] == 0]"
   ]
  },
  {
   "cell_type": "code",
   "execution_count": 75,
   "id": "0d31adcb",
   "metadata": {},
   "outputs": [
    {
     "name": "stdout",
     "output_type": "stream",
     "text": [
      "ratio of well matching:  1.0\n",
      "----- well match (order) -----\n",
      "accuracy: 0.2363\n",
      "accuracy(pt order): 0.1465\n",
      "----- well match (pair) -----\n",
      "accuracy: 0.4604\n",
      "accuracy(pt order): 0.3966\n"
     ]
    }
   ],
   "source": [
    "print(\"ratio of well matching: \", len(df_well_match)/len(df))\n",
    "print(\"----- well match (order) -----\")\n",
    "print(\"accuracy: %.4f\"%(df_well_match['label'].sum()/len(df_well_match)))\n",
    "print(\"accuracy(pt order): %.4f\"%(df_well_match_order['label'].sum()/len(df_well_match_order)))\n",
    "print(\"----- well match (pair) -----\")\n",
    "print(\"accuracy: %.4f\"%(df_well_match['label_pair'].sum()/len(df_well_match)))\n",
    "print(\"accuracy(pt order): %.4f\"%(df_well_match_order['label_pair'].sum()/len(df_well_match_order)))"
   ]
  },
  {
   "cell_type": "code",
   "execution_count": 17,
   "id": "5646cbe7",
   "metadata": {},
   "outputs": [],
   "source": [
    "def invariant_mass(pt1: pd.Series,\n",
    "                   eta1: pd.Series,\n",
    "                   phi1: pd.Series,\n",
    "                   mass1: pd.Series,\n",
    "                   pt2: pd.Series,\n",
    "                   eta2: pd.Series,\n",
    "                   phi2: pd.Series,\n",
    "                   mass2: pd.Series) -> pd.Series:\n",
    "    v1 = vector.obj(pt=pt1, eta=eta1, phi=phi1, mass=mass1)\n",
    "    v2 = vector.obj(pt=pt2, eta=eta2, phi=phi2, mass=mass2)\n",
    "\n",
    "    return (v1+v2).mass\n",
    "def pt_sum(pt1: pd.Series,\n",
    "           pt2: pd.Series) -> pd.Series:\n",
    "    return pt1 + pt2"
   ]
  },
  {
   "cell_type": "code",
   "execution_count": 18,
   "id": "91e14f5a",
   "metadata": {},
   "outputs": [],
   "source": [
    "inv_mass = df_well_match.apply(lambda row: invariant_mass(row[\"bmatched_jet_pt\"],\n",
    "                                                          row[\"bmatched_jet_eta\"], \n",
    "                                                          row[\"bmatched_jet_phi\"],\n",
    "                                                          row[\"bmatched_jet_mass\"],\n",
    "                                                          row[\"lmatched_jet_pt\"],\n",
    "                                                          row[\"lmatched_jet_eta\"],\n",
    "                                                          row[\"lmatched_jet_phi\"],\n",
    "                                                          row[\"lmatched_jet_mass\"]), axis =1)"
   ]
  },
  {
   "cell_type": "code",
   "execution_count": null,
   "id": "0ee9d374",
   "metadata": {},
   "outputs": [],
   "source": []
  }
 ],
 "metadata": {
  "@webio": {
   "lastCommId": null,
   "lastKernelId": null
  },
  "kernelspec": {
   "display_name": "Python 3",
   "language": "python",
   "name": "python3"
  },
  "language_info": {
   "codemirror_mode": {
    "name": "ipython",
    "version": 3
   },
   "file_extension": ".py",
   "mimetype": "text/x-python",
   "name": "python",
   "nbconvert_exporter": "python",
   "pygments_lexer": "ipython3",
   "version": "3.9.12"
  }
 },
 "nbformat": 4,
 "nbformat_minor": 5
}
